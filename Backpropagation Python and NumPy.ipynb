{
 "cells": [
  {
   "cell_type": "code",
   "execution_count": null,
   "id": "5f222aec",
   "metadata": {
    "ExecuteTime": {
     "end_time": "2021-07-29T16:01:24.366833Z",
     "start_time": "2021-07-29T16:01:24.364315Z"
    }
   },
   "outputs": [],
   "source": []
  },
  {
   "cell_type": "markdown",
   "id": "7405f7a3",
   "metadata": {},
   "source": [
    "Based on https://techcommunity.microsoft.com/t5/educator-developer-blog/how-to-implement-the-backpropagation-using-python-and-numpy/ba-p/378895\n",
    "# How to implement the backpropagation using Python and NumPy\n",
    "By Lee Stott\n",
    "## First published on MSDN on Jul 04, 2017\n",
    "I was recently speaking to a University Academic and we got into the discussion of practical assessments for Data Science Students, One of the key principles students learn is how to implement the back-propagation neural network training algorithm. Many students start by learning this method from scratch, using just Python 3.x and the NumPy package.\n",
    "\n",
    "The following is a Guest post by Dr. James McCaffrey Microsoft Research this article was originally published at Visual Studio Magazine the article has been increased to include some additional resources and interactive demos using the Azure Notebooks Service.\n",
    "\n",
    "After reading this you should have a solid grasp of back-propagation, as well as knowledge of Python and NumPy techniques that will be useful when working with libraries such as CNTK and TensorFlow. .\n",
    "\n",
    "## Example using the Iris Dataset\n",
    "The [Iris Data Set](https://en.wikipedia.org/wiki/Iris_flower_data_set) has over 150 item records. Each item has four numeric predictor variables (often called features): sepal length and width, and petal length and width, followed by the species (\"setosa,\" \"versicolor\" or \"virginica\").\n",
    "\n",
    "The demo program uses 1-of-N label encoding\n",
    "\n",
    "- setosa = (1,0,0)\n",
    "- versicolor = (0,1,0)\n",
    "- virginica = (0,0,1)\n",
    "The goal is to predict species from sepal and petal length and width.  The 150-item dataset has 50 setosa items, followed by 50 versicolor, followed by 50 virginica. Before writing the demo program,\n",
    "\n",
    "There is a 120-item file of training data (using the first 30 of each species) and a 30-item file of test data (the leftover 10 of each species). https://github.com/leestott/IrisData/blob/master/irisTrainData.txt\n",
    "\n",
    "The demo program creates a simple neural network with four input nodes (one for each feature), five hidden processing nodes (the number of hidden nodes is a free parameter and must be determined by trial and error), and three output nodes (corresponding to encoded species). The demo loaded the training and test data into two matrices.\n",
    "\n",
    "The back-propagation algorithm is iterative and you must supply a maximum number of iterations (50 in the demo) and a learning rate (0.050) that controls how much each weight and bias value changes in each iteration. Small learning rate values lead to slow but steady training. Large learning rates lead to quicker training at the risk of overshooting good weight and bias values. The max-iteration and leaning rate are free parameters.\n",
    "\n",
    "The demo displays the value of the mean squared error, every 10 iterations during training. As you'll see shortly, there are two error types that are commonly used with back-propagation, and the choice of error type affects the back-propagation implementation. After training completed, the demo computed the classification accuracy of the resulting model on the training data (0.9333 = 112 out of 120 correct) and on the test data (0.9667 = 29 out of 30 correct). The classification accuracy on a set of test data is a very rough approximation of the accuracy you'd expect to see on new, previously unseen data.\n",
    "\n",
    "The demo program is too long to present in its entirety in this article, but the complete source code is available in the accompanying file download. https://github.com/leestott/IrisData\n",
    "\n",
    "## Understanding Back-Propagation\n",
    "\n",
    "Back-propagation is arguably the single most important algorithm in machine learning. A complete understanding of back-propagation takes a lot of effort. But from a developer's perspective, there are only a few key concepts that are needed to implement back-propagation. In the discussion that follows, for simplicity I leave out many important details, and take many liberties with the underlying mathematics.\n",
    "\n",
    "Take a look at the two math equations for back-propagation. The top equation defines a sum of squares error metric and is the starting point for back-propagation. The tj stands for a target value and the oj stands for a computed output value. Suppose a target value is (1, 0, 0) corresponding to setosa. And suppose that for a given set of weight and bias values, and a set of four input values, the computed output values are (0.70, 0.10, 0.20). The squared error is 1/2 * [ (1 - 0.70)^2 + (0 - 0.10)^2 + (0 - 0.20)^2 ] = 1/2 * (0.09 + 0.01 + 0.04) = 0.07. Notice the seemingly arbitrary 1/2 term.\n",
    "\n",
    "\n",
    "## Back-Propagation Update for Hidden-to-Output Weights\n",
    "The goal of back-propagation training is to minimize the squared error. To do that, the gradient of the error function must be calculated. The gradient is a calculus derivative with a value like +1.23 or -0.33. The sign of the gradient tells you whether to increase or decrease the weights and biases in order to reduce error. The magnitude of the gradient is used, along with the learning rate, to determine how much to increase or decrease the weights and biases.\n",
    "\n",
    "Using some very clever mathematics, you can compute the gradient. The bottom equation is the weight update rule for a single output node. The amount to change a particular weight is the learning rate (alpha) times the gradient. The gradient has four terms. The xi is the input associated with the weight that’s being examined. The (oj - tj) is the derivative of the outside part of the error function: the 2 exponent drops to the front, cancelling the 1/2 (which is the only reason the 1/2 term is there), then you multiply by the derivative of the inside, which is -1 times the derivative of the function used to compute the output node.\n",
    "\n",
    "The third and fourth terms of the gradient come from the activation function used for the output nodes. For classification, this is the softmax function. As it turns out, the derivative of an output node oj is, somewhat surprisingly, oj * (1 - oj). To summarize, the back-propagation weight update rule depends on the derivative of the error function and the derivative of the activation function.\n",
    "\n",
    "There are some important additional details. The squared error term can be defined using (target -output)^2 instead of (output - target)^2 and give the same error because of the squaring operation. But reversing the order will change the sign of the resulting (target - output) term in the gradient. This in turn affects whether you should add the delta-w term or subtract it when you update weights and biases.\n",
    "\n",
    "OK, so updating the weights and biases for hidden-to-output weights isn't too difficult. But what about the weight update rule for input-to-hidden weights? That equation is more complicated and in my opinion is best understood using code rather than a math equation, as I'll present shortly. The Wikipedia article on back-propagation has a very good derivation of the weight update rule for both output and hidden nodes.\n",
    "# Overall Demo Program Structure\n",
    "\n",
    "The overall demo program structure is presented in Listing 1 .\n",
    "\n",
    "To edit the demo program, I commented the name of the program and indicated the Python version used. I added four import statements to gain access to the NumPy package's array and matrix data structures, and the math and random modules. The sys module is used only to programmatically display the Python version, and can be omitted in most scenarios.\n",
    "\n",
    "Listing 1: Overall Program Structure https://github.com/leestott/IrisData/blob/master/nn_backprop.py\n",
    "\n",
    "# Conclusion\n",
    "\n",
    "Implementing a neural network in Python gives you a complete understanding of what goes on behind the scenes when you use a sophisticated machine learning library like CNTK or TensorFlow, the ability to implement a neural network from scratch gives you the ability to experiment with custom algorithms. The version of back-propagation presented in this article is basic example to help students get started with Python and NumPy."
   ]
  },
  {
   "cell_type": "code",
   "execution_count": 1,
   "id": "61798e0c",
   "metadata": {
    "ExecuteTime": {
     "end_time": "2021-07-29T16:50:31.818793Z",
     "start_time": "2021-07-29T16:50:31.725091Z"
    }
   },
   "outputs": [],
   "source": [
    "# nn_backprop.py\n",
    "# Python 3.x\n",
    "import numpy as np\n",
    "import random\n",
    "import math\n",
    "import sys"
   ]
  },
  {
   "cell_type": "code",
   "execution_count": 2,
   "id": "c42c9504",
   "metadata": {
    "ExecuteTime": {
     "end_time": "2021-07-29T16:50:31.831303Z",
     "start_time": "2021-07-29T16:50:31.822553Z"
    }
   },
   "outputs": [],
   "source": [
    "\n",
    "# helper functions\n",
    "\n",
    "def loadFile(df):\n",
    "  # load a comma-delimited text file into an np matrix\n",
    "  resultList = []\n",
    "  f = open(df, 'r')\n",
    "  for line in f:\n",
    "    line = line.rstrip('\\n')  # \"1.0,2.0,3.0\"\n",
    "    sVals = line.split(',')   # [\"1.0\", \"2.0, \"3.0\"]\n",
    "    fVals = list(map(np.float32, sVals))  # [1.0, 2.0, 3.0]\n",
    "    resultList.append(fVals)  # [[1.0, 2.0, 3.0] , [4.0, 5.0, 6.0]]\n",
    "  f.close()\n",
    "  return np.asarray(resultList, dtype=np.float32)  # not necessary\n",
    "# end loadFile\n",
    "  \n",
    "def showVector(v, dec):\n",
    "  fmt = \"%.\" + str(dec) + \"f\" # like %.4f\n",
    "  for i in range(len(v)):\n",
    "    x = v[i]\n",
    "    if x >= 0.0: print(' ', end='')\n",
    "    print(fmt % x + '  ', end='')\n",
    "  print('')\n",
    "  \n",
    "def showMatrix(m, dec):\n",
    "  fmt = \"%.\" + str(dec) + \"f\" # like %.4f  \n",
    "  for i in range(len(m)):\n",
    "    for j in range(len(m[i])):\n",
    "      x = m[i,j]\n",
    "      if x >= 0.0: print(' ', end='')\n",
    "      print(fmt % x + '  ', end='')\n",
    "    print('')\n",
    "\n",
    "def showMatrixPartial(m, numRows, dec, indices):\n",
    "  fmt = \"%.\" + str(dec) + \"f\" # like %.4f\n",
    "  lastRow = len(m) - 1\n",
    "  width = len(str(lastRow))\n",
    "  for i in range(numRows):\n",
    "    if indices == True:\n",
    "      print(\"[\", end='')\n",
    "      print(str(i).rjust(width), end='')\n",
    "      print(\"] \", end='')\t  \n",
    "  \n",
    "    for j in range(len(m[i])):\n",
    "      x = m[i,j]\n",
    "      if x >= 0.0: print(' ', end='')\n",
    "      print(fmt % x + '  ', end='')\n",
    "    print('')\n",
    "  print(\" . . . \")\n",
    "\n",
    "  if indices == True:\n",
    "    print(\"[\", end='')\n",
    "    print(str(lastRow).rjust(width), end='')\n",
    "    print(\"] \", end='')\t  \n",
    "  for j in range(len(m[lastRow])):\n",
    "    x = m[lastRow,j]\n",
    "    if x >= 0.0: print(' ', end='')\n",
    "    print(fmt % x + '  ', end='')\n",
    "  print('')\t  \n"
   ]
  },
  {
   "cell_type": "code",
   "execution_count": 3,
   "id": "eafbaa6c",
   "metadata": {
    "ExecuteTime": {
     "end_time": "2021-07-29T16:50:31.836930Z",
     "start_time": "2021-07-29T16:50:31.832595Z"
    }
   },
   "outputs": [],
   "source": [
    "# Define a NeuralNetwork class that contains the number of input, hidden, and output nodes."
   ]
  },
  {
   "cell_type": "code",
   "execution_count": 4,
   "id": "09636c3c",
   "metadata": {
    "ExecuteTime": {
     "end_time": "2021-07-29T16:50:31.862834Z",
     "start_time": "2021-07-29T16:50:31.838245Z"
    }
   },
   "outputs": [],
   "source": [
    "class NeuralNetwork:\n",
    "    def __init__(self, numInput, numHidden, numOutput, seed):\n",
    "        self.ni = numInput\n",
    "        self.nh = numHidden\n",
    "        self.no = numOutput\n",
    "\n",
    "        self.iNodes = np.zeros(shape=[self.ni], dtype=np.float32)\n",
    "        self.hNodes = np.zeros(shape=[self.nh], dtype=np.float32)\n",
    "        self.oNodes = np.zeros(shape=[self.no], dtype=np.float32)\n",
    "\n",
    "        self.ihWeights = np.zeros(shape=[self.ni, self.nh], dtype=np.float32)\n",
    "        self.hoWeights = np.zeros(shape=[self.nh, self.no], dtype=np.float32)\n",
    "\n",
    "        self.hBiases = np.zeros(shape=[self.nh], dtype=np.float32)\n",
    "        self.oBiases = np.zeros(shape=[self.no], dtype=np.float32)\n",
    "\n",
    "        self.rnd = random.Random(seed)  # allows multiple instances\n",
    "        self.initializeWeights()\n",
    "\n",
    "    def setWeights(self, weights):\n",
    "        if len(weights) != self.totalWeights(self.ni, self.nh, self.no):\n",
    "            print(\"Warning: len(weights) error in setWeights()\")\n",
    "\n",
    "        idx = 0\n",
    "        for i in range(self.ni):\n",
    "            for j in range(self.nh):\n",
    "                self.ihWeights[i, j] = weights[idx]\n",
    "                idx += 1\n",
    "\n",
    "        for j in range(self.nh):\n",
    "            self.hBiases[j] = weights[idx]\n",
    "            idx += 1\n",
    "\n",
    "        for j in range(self.nh):\n",
    "            for k in range(self.no):\n",
    "                self.hoWeights[j, k] = weights[idx]\n",
    "                idx += 1\n",
    "\n",
    "        for k in range(self.no):\n",
    "            self.oBiases[k] = weights[idx]\n",
    "            idx += 1\n",
    "\n",
    "    def getWeights(self):\n",
    "        tw = self.totalWeights(self.ni, self.nh, self.no)\n",
    "        result = np.zeros(shape=[tw], dtype=np.float32)\n",
    "        idx = 0  # points into result\n",
    "\n",
    "        for i in range(self.ni):\n",
    "            for j in range(self.nh):\n",
    "                result[idx] = self.ihWeights[i, j]\n",
    "                idx += 1\n",
    "\n",
    "        for j in range(self.nh):\n",
    "            result[idx] = self.hBiases[j]\n",
    "            idx += 1\n",
    "\n",
    "        for j in range(self.nh):\n",
    "            for k in range(self.no):\n",
    "                result[idx] = self.hoWeights[j, k]\n",
    "                idx += 1\n",
    "\n",
    "        for k in range(self.no):\n",
    "            result[idx] = self.oBiases[k]\n",
    "            idx += 1\n",
    "\n",
    "        return result\n",
    "\n",
    "    def initializeWeights(self):\n",
    "        numWts = self.totalWeights(self.ni, self.nh, self.no)\n",
    "        wts = np.zeros(shape=[numWts], dtype=np.float32)\n",
    "        lo = -0.01\n",
    "        hi = 0.01\n",
    "        for idx in range(len(wts)):\n",
    "            wts[idx] = (hi - lo) * self.rnd.random() + lo\n",
    "        self.setWeights(wts)\n",
    "\n",
    "    def computeOutputs(self, xValues):\n",
    "        hSums = np.zeros(shape=[self.nh], dtype=np.float32)\n",
    "        oSums = np.zeros(shape=[self.no], dtype=np.float32)\n",
    "\n",
    "        for i in range(self.ni):\n",
    "            self.iNodes[i] = xValues[i]\n",
    "\n",
    "        for j in range(self.nh):\n",
    "            for i in range(self.ni):\n",
    "                hSums[j] += self.iNodes[i] * self.ihWeights[i, j]\n",
    "\n",
    "        for j in range(self.nh):\n",
    "            hSums[j] += self.hBiases[j]\n",
    "\n",
    "        for j in range(self.nh):\n",
    "            self.hNodes[j] = self.hypertan(hSums[j])\n",
    "\n",
    "        for k in range(self.no):\n",
    "            for j in range(self.nh):\n",
    "                oSums[k] += self.hNodes[j] * self.hoWeights[j, k]\n",
    "\n",
    "        for k in range(self.no):\n",
    "            oSums[k] += self.oBiases[k]\n",
    "\n",
    "        softOut = self.softmax(oSums)\n",
    "        for k in range(self.no):\n",
    "            self.oNodes[k] = softOut[k]\n",
    "\n",
    "        result = np.zeros(shape=self.no, dtype=np.float32)\n",
    "        for k in range(self.no):\n",
    "            result[k] = self.oNodes[k]\n",
    "\n",
    "        return result\n",
    "\n",
    "    def train(self, trainData, maxEpochs, learnRate,provideUpdates = True):\n",
    "        hoGrads = np.zeros(\n",
    "            shape=[self.nh, self.no],\n",
    "            dtype=np.float32)  # hidden-to-output weights gradients\n",
    "        obGrads = np.zeros(shape=[self.no],\n",
    "                           dtype=np.float32)  # output node biases gradients\n",
    "        ihGrads = np.zeros(\n",
    "            shape=[self.ni, self.nh],\n",
    "            dtype=np.float32)  # input-to-hidden weights gradients\n",
    "        hbGrads = np.zeros(shape=[self.nh],\n",
    "                           dtype=np.float32)  # hidden biases gradients\n",
    "\n",
    "        oSignals = np.zeros(\n",
    "            shape=[self.no], dtype=np.float32\n",
    "        )  # output signals: gradients w/o assoc. input terms\n",
    "        hSignals = np.zeros(\n",
    "            shape=[self.nh], dtype=np.float32\n",
    "        )  # hidden signals: gradients w/o assoc. input terms\n",
    "\n",
    "        epoch = 0\n",
    "        x_values = np.zeros(shape=[self.ni], dtype=np.float32)\n",
    "        t_values = np.zeros(shape=[self.no], dtype=np.float32)\n",
    "        numTrainItems = len(trainData)\n",
    "        indices = np.arange(\n",
    "            numTrainItems)  # [0, 1, 2, . . n-1]  # rnd.shuffle(v)\n",
    "\n",
    "        while epoch < maxEpochs:\n",
    "            self.rnd.shuffle(indices)  # scramble order of training items\n",
    "            for ii in range(numTrainItems):\n",
    "                idx = indices[ii]\n",
    "\n",
    "                for j in range(self.ni):\n",
    "                    x_values[j] = trainData[idx, j]  # get the input values\n",
    "                for j in range(self.no):\n",
    "                    t_values[j] = trainData[idx, j +\n",
    "                                            self.ni]  # get the target values\n",
    "                self.computeOutputs(x_values)  # results stored internally\n",
    "\n",
    "                # 1. compute output node signals\n",
    "                for k in range(self.no):\n",
    "                    derivative = (1 -\n",
    "                                  self.oNodes[k]) * self.oNodes[k]  # softmax\n",
    "                    oSignals[k] = derivative * (self.oNodes[k] - t_values[k]\n",
    "                                                )  # E=(t-o)^2 do E'=(o-t)\n",
    "\n",
    "                # 2. compute hidden-to-output weight gradients using output signals\n",
    "                for j in range(self.nh):\n",
    "                    for k in range(self.no):\n",
    "                        hoGrads[j, k] = oSignals[k] * self.hNodes[j]\n",
    "\n",
    "                # 3. compute output node bias gradients using output signals\n",
    "                for k in range(self.no):\n",
    "                    obGrads[k] = oSignals[\n",
    "                        k] * 1.0  # 1.0 dummy input can be dropped\n",
    "\n",
    "                # 4. compute hidden node signals\n",
    "                for j in range(self.nh):\n",
    "                    sum = 0.0\n",
    "                    for k in range(self.no):\n",
    "                        sum += oSignals[k] * self.hoWeights[j, k]\n",
    "                    derivative = (1 - self.hNodes[j]) * (1 + self.hNodes[j]\n",
    "                                                         )  # tanh activation\n",
    "                    hSignals[j] = derivative * sum\n",
    "\n",
    "                # 5 compute input-to-hidden weight gradients using hidden signals\n",
    "                for i in range(self.ni):\n",
    "                    for j in range(self.nh):\n",
    "                        ihGrads[i, j] = hSignals[j] * self.iNodes[i]\n",
    "\n",
    "                # 6. compute hidden node bias gradients using hidden signals\n",
    "                for j in range(self.nh):\n",
    "                    hbGrads[j] = hSignals[\n",
    "                        j] * 1.0  # 1.0 dummy input can be dropped\n",
    "\n",
    "                # update weights and biases using the gradients\n",
    "\n",
    "                # 1. update input-to-hidden weights\n",
    "                for i in range(self.ni):\n",
    "                    for j in range(self.nh):\n",
    "                        delta = -1.0 * learnRate * ihGrads[i, j]\n",
    "                        self.ihWeights[i, j] += delta\n",
    "\n",
    "                # 2. update hidden node biases\n",
    "                for j in range(self.nh):\n",
    "                    delta = -1.0 * learnRate * hbGrads[j]\n",
    "                    self.hBiases[j] += delta\n",
    "\n",
    "                # 3. update hidden-to-output weights\n",
    "                for j in range(self.nh):\n",
    "                    for k in range(self.no):\n",
    "                        delta = -1.0 * learnRate * hoGrads[j, k]\n",
    "                        self.hoWeights[j, k] += delta\n",
    "\n",
    "                # 4. update output node biases\n",
    "                for k in range(self.no):\n",
    "                    delta = -1.0 * learnRate * obGrads[k]\n",
    "                    self.oBiases[k] += delta\n",
    "\n",
    "            epoch += 1\n",
    "\n",
    "            if provideUpdates and epoch % 10 == 0:\n",
    "                mse = self.meanSquaredError(trainData)\n",
    "                print(\"epoch = \" + str(epoch) + \" error = %0.4f \" % mse)\n",
    "        # end while\n",
    "\n",
    "        result = self.getWeights()\n",
    "        return result\n",
    "\n",
    "    # end train\n",
    "\n",
    "    def accuracy(self, tdata):  # train or test data matrix\n",
    "        num_correct = 0\n",
    "        num_wrong = 0\n",
    "        x_values = np.zeros(shape=[self.ni], dtype=np.float32)\n",
    "        t_values = np.zeros(shape=[self.no], dtype=np.float32)\n",
    "\n",
    "        for i in range(len(tdata)):  # walk thru each data item\n",
    "            for j in range(\n",
    "                    self.ni):  # peel off input values from curr data row\n",
    "                x_values[j] = tdata[i, j]\n",
    "            for j in range(\n",
    "                    self.no):  # peel off tareget values from curr data row\n",
    "                t_values[j] = tdata[i, j + self.ni]\n",
    "\n",
    "            y_values = self.computeOutputs(x_values)  # computed output values)\n",
    "            max_index = np.argmax(y_values)  # index of largest output value\n",
    "\n",
    "            if abs(t_values[max_index] - 1.0) < 1.0e-5:\n",
    "                num_correct += 1\n",
    "            else:\n",
    "                num_wrong += 1\n",
    "\n",
    "        return (num_correct * 1.0) / (num_correct + num_wrong)\n",
    "\n",
    "    def meanSquaredError(self, tdata):  # on train or test data matrix\n",
    "        sumSquaredError = 0.0\n",
    "        x_values = np.zeros(shape=[self.ni], dtype=np.float32)\n",
    "        t_values = np.zeros(shape=[self.no], dtype=np.float32)\n",
    "\n",
    "        for ii in range(len(tdata)):  # walk thru each data item\n",
    "            for jj in range(\n",
    "                    self.ni):  # peel off input values from curr data row\n",
    "                x_values[jj] = tdata[ii, jj]\n",
    "            for jj in range(\n",
    "                    self.no):  # peel off tareget values from curr data row\n",
    "                t_values[jj] = tdata[ii, jj + self.ni]\n",
    "\n",
    "            y_values = self.computeOutputs(x_values)  # computed output values\n",
    "\n",
    "            for j in range(self.no):\n",
    "                err = t_values[j] - y_values[j]\n",
    "                sumSquaredError += err * err  # (t-o)^2\n",
    "\n",
    "        return sumSquaredError / len(tdata)\n",
    "\n",
    "    @staticmethod\n",
    "    def hypertan(x):\n",
    "        if x < -20.0:\n",
    "            return -1.0\n",
    "        elif x > 20.0:\n",
    "            return 1.0\n",
    "        else:\n",
    "            return math.tanh(x)\n",
    "\n",
    "    @staticmethod\n",
    "    def softmax(oSums):\n",
    "        result = np.zeros(shape=[len(oSums)], dtype=np.float32)\n",
    "        m = max(oSums)\n",
    "        divisor = 0.0\n",
    "        for k in range(len(oSums)):\n",
    "            divisor += math.exp(oSums[k] - m)\n",
    "        for k in range(len(result)):\n",
    "            result[k] = math.exp(oSums[k] - m) / divisor\n",
    "        return result\n",
    "\n",
    "    @staticmethod\n",
    "    def totalWeights(nInput, nHidden, nOutput):\n",
    "        tw = (nInput * nHidden) + (nHidden * nOutput) + nHidden + nOutput\n",
    "        return tw\n",
    "\n",
    "\n",
    "# end class NeuralNetwork"
   ]
  },
  {
   "cell_type": "markdown",
   "id": "949bc6a8",
   "metadata": {
    "ExecuteTime": {
     "end_time": "2021-07-29T15:54:16.086352Z",
     "start_time": "2021-07-29T15:54:16.075281Z"
    }
   },
   "source": [
    "# Begin NN back-propagation demo\n",
    "The demo program consists mostly of a program-defined NeuralNetwork class. \n"
   ]
  },
  {
   "cell_type": "code",
   "execution_count": 5,
   "id": "fc341ddb",
   "metadata": {
    "ExecuteTime": {
     "end_time": "2021-07-29T16:50:31.869403Z",
     "start_time": "2021-07-29T16:50:31.864082Z"
    }
   },
   "outputs": [
    {
     "name": "stdout",
     "output_type": "stream",
     "text": [
      "Using Python version 3.9.5 | packaged by conda-forge | (default, Jun 19 2021, 00:32:32) \n",
      "[GCC 9.3.0]\n",
      " and NumPy version 1.19.5\n"
     ]
    }
   ],
   "source": [
    "pv = sys.version\n",
    "npv = np.version.version\n",
    "print(\"Using Python version \" + str(pv) + \"\\n and NumPy version \" + str(npv))"
   ]
  },
  {
   "cell_type": "markdown",
   "id": "b5334bdf",
   "metadata": {},
   "source": [
    "## Create a demo neural network"
   ]
  },
  {
   "cell_type": "code",
   "execution_count": 6,
   "id": "82818baf",
   "metadata": {
    "ExecuteTime": {
     "end_time": "2021-07-29T16:50:31.874011Z",
     "start_time": "2021-07-29T16:50:31.871087Z"
    }
   },
   "outputs": [],
   "source": [
    "numInput = 4\n",
    "numHidden = 5\n",
    "numOutput = 3"
   ]
  },
  {
   "cell_type": "code",
   "execution_count": 7,
   "id": "5ea9a7fb",
   "metadata": {
    "ExecuteTime": {
     "end_time": "2021-07-29T16:50:31.880529Z",
     "start_time": "2021-07-29T16:50:31.875755Z"
    }
   },
   "outputs": [
    {
     "name": "stdout",
     "output_type": "stream",
     "text": [
      "\n",
      "Creating a 4-5-3 neural network \n",
      "\n",
      "Created a 4-5-3 neural network \n"
     ]
    }
   ],
   "source": [
    "\n",
    "print(\"\\nCreating a %d-%d-%d neural network \" %\n",
    "      (numInput, numHidden, numOutput))\n",
    "nn = NeuralNetwork(numInput, numHidden, numOutput, seed=3)\n",
    "print(\"\\nCreated a %d-%d-%d neural network \" %\n",
    "      (numInput, numHidden, numOutput))\n"
   ]
  },
  {
   "cell_type": "code",
   "execution_count": 8,
   "id": "72d43865",
   "metadata": {
    "ExecuteTime": {
     "end_time": "2021-07-29T16:50:32.901221Z",
     "start_time": "2021-07-29T16:50:31.883266Z"
    }
   },
   "outputs": [
    {
     "name": "stdout",
     "output_type": "stream",
     "text": [
      "\n",
      "Loading Iris training and test data \n",
      "\n",
      "Test data: \n",
      "[  0]  4.9   3.0   1.4   0.2   1.0   0.0   0.0  \n",
      "[  1]  4.7   3.2   1.3   0.2   1.0   0.0   0.0  \n",
      "[  2]  4.6   3.1   1.5   0.2   1.0   0.0   0.0  \n",
      "[  3]  5.0   3.6   1.4   0.2   1.0   0.0   0.0  \n",
      " . . . \n",
      "[118]  6.9   3.1   5.4   2.1   0.0   0.0   1.0  \n"
     ]
    }
   ],
   "source": [
    "print(\"\\nLoading Iris training and test data \")\n",
    "import pandas as pd\n",
    "train_df = pd.read_csv(\"https://raw.githubusercontent.com/leestott/IrisData/master/irisTrainData.txt\",header=0)\n",
    "test_df = pd.read_csv(\"https://raw.githubusercontent.com/leestott/IrisData/master/irisTestData.txt\",header =0)\n",
    "trainDataMatrix = train_df.to_numpy()\n",
    "print(\"\\nTest data: \")\n",
    "\n",
    "showMatrixPartial(trainDataMatrix, 4, 1, True)\n",
    "\n",
    "testDataMatrix = test_df.to_numpy()  "
   ]
  },
  {
   "cell_type": "code",
   "execution_count": 9,
   "id": "90965774",
   "metadata": {
    "ExecuteTime": {
     "end_time": "2021-07-29T16:50:32.906099Z",
     "start_time": "2021-07-29T16:50:32.902773Z"
    }
   },
   "outputs": [],
   "source": [
    "maxEpochs = 50\n",
    "learnRate = 0.05"
   ]
  },
  {
   "cell_type": "code",
   "execution_count": 10,
   "id": "23de36e8",
   "metadata": {
    "ExecuteTime": {
     "end_time": "2021-07-29T16:50:34.505268Z",
     "start_time": "2021-07-29T16:50:32.907532Z"
    }
   },
   "outputs": [
    {
     "name": "stdout",
     "output_type": "stream",
     "text": [
      "\n",
      "Setting maxEpochs = 50\n",
      "Setting learning rate = 0.050 \n",
      "\n",
      "Starting training\n",
      "epoch = 10 error = 0.2987 \n",
      "epoch = 20 error = 0.1116 \n",
      "epoch = 30 error = 0.0710 \n",
      "epoch = 40 error = 0.0670 \n",
      "epoch = 50 error = 0.0591 \n",
      "Training complete\n",
      "\n",
      "Accuracy on 120-item train data = 0.9664 \n",
      "Accuracy on 30-item test data   = 1.0000 \n"
     ]
    }
   ],
   "source": [
    "print(\"\\nSetting maxEpochs = \" + str(maxEpochs))\n",
    "print(\"Setting learning rate = %0.3f \" % learnRate)\n",
    "print(\"\\nStarting training\")\n",
    "nn.train(trainDataMatrix, maxEpochs, learnRate)\n",
    "print(\"Training complete\")\n",
    "\n",
    "accTrain = nn.accuracy(trainDataMatrix)\n",
    "accTest = nn.accuracy(testDataMatrix)\n",
    "\n",
    "print(\"\\nAccuracy on 120-item train data = %0.4f \" % accTrain)\n",
    "print(\"Accuracy on 30-item test data   = %0.4f \" % accTest)\n"
   ]
  },
  {
   "cell_type": "markdown",
   "id": "48c2db02",
   "metadata": {
    "ExecuteTime": {
     "end_time": "2021-07-29T16:42:27.767418Z",
     "start_time": "2021-07-29T16:42:27.764753Z"
    }
   },
   "source": [
    "# Demonstration of Over Fitting\n",
    "If a little does a little good then..."
   ]
  },
  {
   "cell_type": "code",
   "execution_count": 11,
   "id": "1187d496",
   "metadata": {
    "ExecuteTime": {
     "end_time": "2021-07-29T16:50:34.510506Z",
     "start_time": "2021-07-29T16:50:34.506874Z"
    }
   },
   "outputs": [],
   "source": [
    "def TrainTest(maxEpochs=50,learnRate = 0.05):\n",
    "    nn = NeuralNetwork(numInput, numHidden, numOutput, seed=3)\n",
    "    nn.train(trainDataMatrix, maxEpochs, learnRate,False)\n",
    "    return maxEpochs, nn.accuracy(trainDataMatrix),nn.accuracy(testDataMatrix),nn.meanSquaredError(trainDataMatrix)\n"
   ]
  },
  {
   "cell_type": "code",
   "execution_count": 12,
   "id": "be54a885",
   "metadata": {
    "ExecuteTime": {
     "end_time": "2021-07-29T16:50:36.138244Z",
     "start_time": "2021-07-29T16:50:34.512037Z"
    }
   },
   "outputs": [
    {
     "name": "stdout",
     "output_type": "stream",
     "text": [
      "(1, 0.33613445378151263, 0.3448275862068966, 0.6656051271853327)\n",
      "(50, 0.9663865546218487, 1.0, 0.0590952597919678)\n"
     ]
    }
   ],
   "source": [
    "# just to make sure we're getting valid results\n",
    "print(TrainTest(1))\n",
    "print(TrainTest(50))"
   ]
  },
  {
   "cell_type": "markdown",
   "id": "953214c2",
   "metadata": {
    "ExecuteTime": {
     "end_time": "2021-07-29T16:38:01.932904Z",
     "start_time": "2021-07-29T16:38:01.755051Z"
    }
   },
   "source": [
    "### Means Squared Error\n",
    "Recall MSE is the sum of the differences squared between estimated and actual values.  We want to minimize it, to a point. After a certain point, the MSE may continue to decrease but the accuracy of the model may also decrease.  This is called over fitting.  Using other words, the model may do very well on some of the data it has seen, but very poorly on things it has not seen.\n",
    "\n",
    "\\begin{equation}\n",
    "\\textrm{MSE}(y, \\hat{y} ) = \\frac{1}{n} \\sum_{i=1}^{n} (y_i - \\hat{y_i})^{2}\n",
    "\\end{equation}\n",
    "\n",
    "R2  is a normalized version of MSE\n",
    "\n",
    "\\begin{equation}\n",
    "\\textrm{R}^2(y, \\hat{y} ) = 1 - \\frac{\\sum_{i=1}^{n} (y_i - \\hat{y_i})^{2}}{ \\sum_{i=1}^{n} (y_i - \\bar{y})^{2} }\n",
    "\\end{equation}\n",
    "\n",
    "R2 is useful because it is often easier to interpret since it doesn't depend on the scale of the data.\n",
    "\n",
    "https://stats.stackexchange.com/questions/250730/what-is-the-mathematical-relationship-between-r2-and-mse"
   ]
  },
  {
   "cell_type": "code",
   "execution_count": 18,
   "id": "fecf716b",
   "metadata": {
    "ExecuteTime": {
     "end_time": "2021-07-29T16:54:06.470936Z",
     "start_time": "2021-07-29T16:53:35.956996Z"
    }
   },
   "outputs": [],
   "source": [
    "results = []\n",
    "for i in range(1,100,5):\n",
    "    results.append(TrainTest(i))"
   ]
  },
  {
   "cell_type": "code",
   "execution_count": 19,
   "id": "36eb3bab",
   "metadata": {
    "ExecuteTime": {
     "end_time": "2021-07-29T16:54:06.476742Z",
     "start_time": "2021-07-29T16:54:06.473287Z"
    }
   },
   "outputs": [],
   "source": [
    "results_df = pd.DataFrame.from_records(results, columns =['epoch', 'train_accuracy', 'test_accuracy','epoch_error'])"
   ]
  },
  {
   "cell_type": "code",
   "execution_count": 20,
   "id": "66c1d405",
   "metadata": {
    "ExecuteTime": {
     "end_time": "2021-07-29T16:54:06.486213Z",
     "start_time": "2021-07-29T16:54:06.478584Z"
    }
   },
   "outputs": [],
   "source": [
    "results_df = results_df.set_index(\"epoch\")"
   ]
  },
  {
   "cell_type": "code",
   "execution_count": 21,
   "id": "53a17616",
   "metadata": {
    "ExecuteTime": {
     "end_time": "2021-07-29T16:54:06.498684Z",
     "start_time": "2021-07-29T16:54:06.488555Z"
    }
   },
   "outputs": [
    {
     "data": {
      "text/html": [
       "<div>\n",
       "<style scoped>\n",
       "    .dataframe tbody tr th:only-of-type {\n",
       "        vertical-align: middle;\n",
       "    }\n",
       "\n",
       "    .dataframe tbody tr th {\n",
       "        vertical-align: top;\n",
       "    }\n",
       "\n",
       "    .dataframe thead th {\n",
       "        text-align: right;\n",
       "    }\n",
       "</style>\n",
       "<table border=\"1\" class=\"dataframe\">\n",
       "  <thead>\n",
       "    <tr style=\"text-align: right;\">\n",
       "      <th></th>\n",
       "      <th>train_accuracy</th>\n",
       "      <th>test_accuracy</th>\n",
       "      <th>epoch_error</th>\n",
       "    </tr>\n",
       "    <tr>\n",
       "      <th>epoch</th>\n",
       "      <th></th>\n",
       "      <th></th>\n",
       "      <th></th>\n",
       "    </tr>\n",
       "  </thead>\n",
       "  <tbody>\n",
       "    <tr>\n",
       "      <th>1</th>\n",
       "      <td>0.336134</td>\n",
       "      <td>0.344828</td>\n",
       "      <td>0.665605</td>\n",
       "    </tr>\n",
       "    <tr>\n",
       "      <th>6</th>\n",
       "      <td>0.663866</td>\n",
       "      <td>0.689655</td>\n",
       "      <td>0.337058</td>\n",
       "    </tr>\n",
       "    <tr>\n",
       "      <th>11</th>\n",
       "      <td>0.831933</td>\n",
       "      <td>0.896552</td>\n",
       "      <td>0.249515</td>\n",
       "    </tr>\n",
       "    <tr>\n",
       "      <th>16</th>\n",
       "      <td>0.840336</td>\n",
       "      <td>0.896552</td>\n",
       "      <td>0.208812</td>\n",
       "    </tr>\n",
       "    <tr>\n",
       "      <th>21</th>\n",
       "      <td>0.949580</td>\n",
       "      <td>1.000000</td>\n",
       "      <td>0.113406</td>\n",
       "    </tr>\n",
       "    <tr>\n",
       "      <th>26</th>\n",
       "      <td>0.689076</td>\n",
       "      <td>0.655172</td>\n",
       "      <td>0.422040</td>\n",
       "    </tr>\n",
       "    <tr>\n",
       "      <th>31</th>\n",
       "      <td>0.974790</td>\n",
       "      <td>1.000000</td>\n",
       "      <td>0.072599</td>\n",
       "    </tr>\n",
       "    <tr>\n",
       "      <th>36</th>\n",
       "      <td>0.882353</td>\n",
       "      <td>0.931034</td>\n",
       "      <td>0.159932</td>\n",
       "    </tr>\n",
       "    <tr>\n",
       "      <th>41</th>\n",
       "      <td>0.924370</td>\n",
       "      <td>0.965517</td>\n",
       "      <td>0.111335</td>\n",
       "    </tr>\n",
       "    <tr>\n",
       "      <th>46</th>\n",
       "      <td>0.949580</td>\n",
       "      <td>1.000000</td>\n",
       "      <td>0.064367</td>\n",
       "    </tr>\n",
       "    <tr>\n",
       "      <th>51</th>\n",
       "      <td>0.957983</td>\n",
       "      <td>1.000000</td>\n",
       "      <td>0.073019</td>\n",
       "    </tr>\n",
       "    <tr>\n",
       "      <th>56</th>\n",
       "      <td>0.924370</td>\n",
       "      <td>0.965517</td>\n",
       "      <td>0.075334</td>\n",
       "    </tr>\n",
       "    <tr>\n",
       "      <th>61</th>\n",
       "      <td>0.957983</td>\n",
       "      <td>1.000000</td>\n",
       "      <td>0.057799</td>\n",
       "    </tr>\n",
       "    <tr>\n",
       "      <th>66</th>\n",
       "      <td>0.957983</td>\n",
       "      <td>1.000000</td>\n",
       "      <td>0.067978</td>\n",
       "    </tr>\n",
       "    <tr>\n",
       "      <th>71</th>\n",
       "      <td>0.915966</td>\n",
       "      <td>0.965517</td>\n",
       "      <td>0.108320</td>\n",
       "    </tr>\n",
       "    <tr>\n",
       "      <th>76</th>\n",
       "      <td>0.924370</td>\n",
       "      <td>0.965517</td>\n",
       "      <td>0.109798</td>\n",
       "    </tr>\n",
       "    <tr>\n",
       "      <th>81</th>\n",
       "      <td>0.966387</td>\n",
       "      <td>1.000000</td>\n",
       "      <td>0.052306</td>\n",
       "    </tr>\n",
       "    <tr>\n",
       "      <th>86</th>\n",
       "      <td>0.924370</td>\n",
       "      <td>0.965517</td>\n",
       "      <td>0.086080</td>\n",
       "    </tr>\n",
       "    <tr>\n",
       "      <th>91</th>\n",
       "      <td>0.974790</td>\n",
       "      <td>1.000000</td>\n",
       "      <td>0.047908</td>\n",
       "    </tr>\n",
       "    <tr>\n",
       "      <th>96</th>\n",
       "      <td>0.924370</td>\n",
       "      <td>0.965517</td>\n",
       "      <td>0.078261</td>\n",
       "    </tr>\n",
       "  </tbody>\n",
       "</table>\n",
       "</div>"
      ],
      "text/plain": [
       "       train_accuracy  test_accuracy  epoch_error\n",
       "epoch                                            \n",
       "1            0.336134       0.344828     0.665605\n",
       "6            0.663866       0.689655     0.337058\n",
       "11           0.831933       0.896552     0.249515\n",
       "16           0.840336       0.896552     0.208812\n",
       "21           0.949580       1.000000     0.113406\n",
       "26           0.689076       0.655172     0.422040\n",
       "31           0.974790       1.000000     0.072599\n",
       "36           0.882353       0.931034     0.159932\n",
       "41           0.924370       0.965517     0.111335\n",
       "46           0.949580       1.000000     0.064367\n",
       "51           0.957983       1.000000     0.073019\n",
       "56           0.924370       0.965517     0.075334\n",
       "61           0.957983       1.000000     0.057799\n",
       "66           0.957983       1.000000     0.067978\n",
       "71           0.915966       0.965517     0.108320\n",
       "76           0.924370       0.965517     0.109798\n",
       "81           0.966387       1.000000     0.052306\n",
       "86           0.924370       0.965517     0.086080\n",
       "91           0.974790       1.000000     0.047908\n",
       "96           0.924370       0.965517     0.078261"
      ]
     },
     "metadata": {},
     "output_type": "display_data"
    }
   ],
   "source": [
    "display(results_df)"
   ]
  },
  {
   "cell_type": "code",
   "execution_count": 22,
   "id": "0e268a7d",
   "metadata": {
    "ExecuteTime": {
     "end_time": "2021-07-29T16:54:06.655755Z",
     "start_time": "2021-07-29T16:54:06.499955Z"
    }
   },
   "outputs": [
    {
     "data": {
      "text/plain": [
       "<AxesSubplot:xlabel='epoch'>"
      ]
     },
     "execution_count": 22,
     "metadata": {},
     "output_type": "execute_result"
    },
    {
     "data": {
      "image/png": "[encoded data removed]",
      "text/plain": [
       "<Figure size 432x288 with 1 Axes>"
      ]
     },
     "metadata": {
      "needs_background": "light"
     },
     "output_type": "display_data"
    }
   ],
   "source": [
    "results_df.plot()"
   ]
  },
  {
   "cell_type": "code",
   "execution_count": null,
   "id": "c0ecd34a",
   "metadata": {},
   "outputs": [],
   "source": []
  }
 ],
 "metadata": {
  "kernelspec": {
   "display_name": "Python 3 (ipykernel)",
   "language": "python",
   "name": "python3"
  },
  "language_info": {
   "codemirror_mode": {
    "name": "ipython",
    "version": 3
   },
   "file_extension": ".py",
   "mimetype": "text/x-python",
   "name": "python",
   "nbconvert_exporter": "python",
   "pygments_lexer": "ipython3",
   "version": "3.9.5"
  }
 },
 "nbformat": 4,
 "nbformat_minor": 5
}
